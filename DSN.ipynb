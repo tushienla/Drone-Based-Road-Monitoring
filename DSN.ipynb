{
  "cells": [
    {
      "cell_type": "code",
      "execution_count": null,
      "metadata": {
        "colab": {
          "base_uri": "https://localhost:8080/",
          "height": 1000
        },
        "id": "xPsXzwlEI4lO",
        "outputId": "d4a23859-bef1-4164-afed-7e52af9bb23e"
      },
      "outputs": [],
      "source": [
        "!pip install roboflow"
      ]
    },
    {
      "cell_type": "code",
      "execution_count": null,
      "metadata": {},
      "outputs": [],
      "source": [
        "# Link to dataset: https://universe.roboflow.com/dsn/drone-based-road-mapping-dojdm"
      ]
    },
    {
      "cell_type": "code",
      "execution_count": null,
      "metadata": {
        "id": "hx4nQwRT1fde"
      },
      "outputs": [],
      "source": [
        "from roboflow import Roboflow\n",
        "rf = Roboflow(api_key=\"\")\n",
        "project = rf.workspace(\"\").project(\"\")\n",
        "version = project.version()\n",
        "dataset = version.download(\"yolov8\")"
      ]
    },
    {
      "cell_type": "code",
      "execution_count": null,
      "metadata": {
        "colab": {
          "base_uri": "https://localhost:8080/"
        },
        "id": "J4emHQFM1jIg",
        "outputId": "b51131b4-a533-4741-d829-d8226bdfc1c6"
      },
      "outputs": [],
      "source": [
        "pip install ultralytics"
      ]
    },
    {
      "cell_type": "code",
      "execution_count": null,
      "metadata": {
        "colab": {
          "base_uri": "https://localhost:8080/"
        },
        "id": "eQnpXtHONoBz",
        "outputId": "293f84c0-ddfb-4dad-e118-aa214849e3af"
      },
      "outputs": [],
      "source": [
        "from ultralytics import YOLO\n",
        "model = YOLO(\"yolov8n.pt\")"
      ]
    },
    {
      "cell_type": "code",
      "execution_count": null,
      "metadata": {
        "colab": {
          "base_uri": "https://localhost:8080/"
        },
        "id": "3ByzxrEg2EvQ",
        "outputId": "db2e97b9-73d3-426b-b1a8-6e1b8a2e3407"
      },
      "outputs": [],
      "source": [
        "results = model.train(\n",
        "    data=\"/content/Drone-based-road-mapping-1/data.yaml\",    \n",
        "    epochs=100,              \n",
        "    imgsz=640,              \n",
        "    device=0,            \n",
        "    patience=50,            \n",
        "    batch=16,                \n",
        "    optimizer='auto',        \n",
        "    lr0=0.001,              \n",
        "    lrf=0.1,                 \n",
        "    dropout=0.1,             \n",
        "    seed=0                   \n",
        ")"
      ]
    },
    {
      "cell_type": "code",
      "execution_count": null,
      "metadata": {
        "id": "ghgQ8MWP3s8Y"
      },
      "outputs": [],
      "source": [
        "import os\n",
        "import numpy as np\n",
        "import pandas as pd\n",
        "import matplotlib.pyplot as plt\n",
        "import seaborn as sns\n",
        "import cv2\n",
        "from PIL import Image\n",
        "from IPython.display import Video"
      ]
    },
    {
      "cell_type": "code",
      "execution_count": null,
      "metadata": {
        "colab": {
          "base_uri": "https://localhost:8080/"
        },
        "id": "mORJ5sTV3Zzd",
        "outputId": "2e010c18-e237-494f-f0f2-af950de19407"
      },
      "outputs": [],
      "source": [
        "train_images_path = \"/content/Drone-based-road-mapping-1/train/images\"\n",
        "valid_images_path = \"/content/Drone-based-road-mapping-1/valid/images\"\n",
        "\n",
        "num_train_images = 0\n",
        "num_valid_images = 0\n",
        "\n",
        "train_image_sizes = set()\n",
        "valid_image_sizes = set()\n",
        "\n",
        "for filename in os.listdir(train_images_path):\n",
        "    if filename.endswith('.jpg'):\n",
        "        num_train_images += 1\n",
        "        image_path = os.path.join(train_images_path, filename)\n",
        "        with Image.open(image_path) as img:\n",
        "            train_image_sizes.add(img.size)\n",
        "\n",
        "for filename in os.listdir(valid_images_path):\n",
        "    if filename.endswith('.jpg'):\n",
        "        num_valid_images += 1\n",
        "        image_path = os.path.join(valid_images_path, filename)\n",
        "        with Image.open(image_path) as img:\n",
        "            valid_image_sizes.add(img.size)\n",
        "\n",
        "print(f\"Number of training images: {num_train_images}\")\n",
        "print(f\"Number of validation images: {num_valid_images}\")\n",
        "\n",
        "if len(train_image_sizes) == 1:\n",
        "    print(f\"All training images have the same size: {train_image_sizes.pop()}\")\n",
        "else:\n",
        "    print(\"Training images have varying sizes.\")\n",
        "\n",
        "if len(valid_image_sizes) == 1:\n",
        "    print(f\"All validation images have the same size: {valid_image_sizes.pop()}\")\n",
        "else:\n",
        "    print(\"Validation images have varying sizes.\")"
      ]
    },
    {
      "cell_type": "code",
      "execution_count": null,
      "metadata": {
        "colab": {
          "base_uri": "https://localhost:8080/",
          "height": 484
        },
        "id": "YdYYjfVF5s4d",
        "outputId": "a8ad5e54-f541-4a72-9cab-42b2a18d75fd"
      },
      "outputs": [],
      "source": [
        "image_files = [file for file in os.listdir(train_images_path) if file.endswith('.jpg')]\n",
        "\n",
        "num_images = len(image_files)\n",
        "selected_images = [image_files[i] for i in range(0, num_images, num_images // 8)]\n",
        "\n",
        "fig, axes = plt.subplots(2, 4, figsize=(20, 11))\n",
        "\n",
        "for ax, img_file in zip(axes.ravel(), selected_images):\n",
        "    img_path = os.path.join(train_images_path, img_file)\n",
        "    image = Image.open(img_path)\n",
        "    ax.imshow(image)\n",
        "    ax.axis('off')\n",
        "\n",
        "plt.suptitle('Sample Images from Training Dataset', fontsize=20)\n",
        "plt.tight_layout()\n",
        "plt.show()"
      ]
    },
    {
      "cell_type": "code",
      "execution_count": null,
      "metadata": {
        "id": "gHcNazA45z8y"
      },
      "outputs": [],
      "source": [
        "def plot_learning_curve(df, train_loss_col, val_loss_col, title):\n",
        "    plt.figure(figsize=(12, 5))\n",
        "    sns.lineplot(data=df, x='epoch', y=train_loss_col, label='Train Loss', color='#141140', linestyle='-', linewidth=2)\n",
        "    sns.lineplot(data=df, x='epoch', y=val_loss_col, label='Validation Loss', color='orangered', linestyle='--', linewidth=2)\n",
        "    plt.title(title)\n",
        "    plt.xlabel('Epochs')\n",
        "    plt.ylabel('Loss')\n",
        "    plt.legend()\n",
        "    plt.show()"
      ]
    },
    {
      "cell_type": "code",
      "execution_count": null,
      "metadata": {
        "colab": {
          "base_uri": "https://localhost:8080/",
          "height": 1000
        },
        "id": "vs3bqKK06EBy",
        "outputId": "98e2be48-f9fd-4d57-ca17-5337c042101c"
      },
      "outputs": [],
      "source": [
        "results_csv_path = os.path.join(\"/content/runs/detect/train3\", 'results.csv')\n",
        "\n",
        "df = pd.read_csv(results_csv_path)\n",
        "\n",
        "df.columns = df.columns.str.strip()\n",
        "\n",
        "plot_learning_curve(df, 'train/box_loss', 'val/box_loss', 'Box Loss Learning Curve')\n",
        "plot_learning_curve(df, 'train/cls_loss', 'val/cls_loss', 'Classification Loss Learning Curve')\n",
        "plot_learning_curve(df, 'train/dfl_loss', 'val/dfl_loss', 'Distribution Focal Loss Learning Curve')"
      ]
    },
    {
      "cell_type": "code",
      "execution_count": null,
      "metadata": {
        "colab": {
          "base_uri": "https://localhost:8080/",
          "height": 738
        },
        "id": "Fcyx8eca6N-b",
        "outputId": "979296fe-a47b-4ffa-8ceb-5d4ff6a2bf45"
      },
      "outputs": [],
      "source": [
        "confusion_matrix_path = os.path.join(\"/content/runs/detect/train3\", 'confusion_matrix_normalized.png')\n",
        "\n",
        "cm_img = cv2.imread(confusion_matrix_path)\n",
        "\n",
        "cm_img = cv2.cvtColor(cm_img, cv2.COLOR_BGR2RGB)\n",
        "\n",
        "plt.figure(figsize=(10, 10), dpi=120)\n",
        "plt.imshow(cm_img)\n",
        "plt.axis('off')\n",
        "plt.show()"
      ]
    },
    {
      "cell_type": "code",
      "execution_count": null,
      "metadata": {
        "colab": {
          "base_uri": "https://localhost:8080/"
        },
        "id": "jFIq0I5i6Zw4",
        "outputId": "6c3a0214-3cfb-45a6-a8cd-2f690d46e6a2"
      },
      "outputs": [],
      "source": [
        "tuned_model_path = os.path.join(\"/content/runs/detect/train3\", 'weights/best.pt')\n",
        "\n",
        "tuned_model = YOLO(tuned_model_path)\n",
        "\n",
        "metrics = tuned_model.val(split='val')"
      ]
    },
    {
      "cell_type": "code",
      "execution_count": null,
      "metadata": {
        "colab": {
          "base_uri": "https://localhost:8080/",
          "height": 206
        },
        "id": "l1KYJ9ly6iQD",
        "outputId": "1450aef2-6732-41d0-f192-713d923999c5"
      },
      "outputs": [],
      "source": [
        "metrics_df = pd.DataFrame.from_dict(metrics.results_dict, orient='index', columns=['Metric Value'])\n",
        "\n",
        "metrics_df.round(3)"
      ]
    },
    {
      "cell_type": "code",
      "execution_count": null,
      "metadata": {
        "colab": {
          "base_uri": "https://localhost:8080/",
          "height": 1000
        },
        "id": "rZoG7oJy6rFx",
        "outputId": "385fa17d-926c-47ae-aac8-642947963b65"
      },
      "outputs": [],
      "source": [
        "valid_images_path = os.path.join(\"/content/Drone-based-road-mapping-1\", 'valid', 'images')\n",
        "\n",
        "image_files = [file for file in os.listdir(valid_images_path) if file.endswith('.jpg')]\n",
        "\n",
        "num_images = len(image_files)\n",
        "selected_images = [image_files[i] for i in range(0, num_images, num_images // 9)]\n",
        "\n",
        "fig, axes = plt.subplots(3, 3, figsize=(20, 21))\n",
        "fig.suptitle('Validation Set Inferences', fontsize=24)\n",
        "\n",
        "for i, ax in enumerate(axes.flatten()):\n",
        "    image_path = os.path.join(valid_images_path, selected_images[i])\n",
        "    results = tuned_model.predict(source=image_path, imgsz=640, conf=0.5)\n",
        "    annotated_image = results[0].plot(line_width=1)\n",
        "    annotated_image_rgb = cv2.cvtColor(annotated_image, cv2.COLOR_BGR2RGB)\n",
        "    ax.imshow(annotated_image_rgb)\n",
        "    ax.axis('off')\n",
        "\n",
        "plt.tight_layout()\n",
        "plt.show()"
      ]
    },
    {
      "cell_type": "code",
      "execution_count": null,
      "metadata": {
        "colab": {
          "base_uri": "https://localhost:8080/"
        },
        "id": "NledV-0c7tFK",
        "outputId": "d0995d04-703d-4486-ae04-517b37b63ce5"
      },
      "outputs": [],
      "source": [
        "dataset_video_path = '/content/Drone-based-road-mapping-1/Sample1.webm'\n",
        "\n",
        "tuned_model.predict(source=dataset_video_path, save=True, conf = 0.2)\n"
      ]
    },
    {
      "cell_type": "code",
      "execution_count": null,
      "metadata": {
        "colab": {
          "base_uri": "https://localhost:8080/"
        },
        "id": "GSCNUyt_BwMl",
        "outputId": "5757c308-122c-459c-f469-164f4c65e064"
      },
      "outputs": [],
      "source": [
        "import moviepy.editor as mpe\n",
        "\n",
        "video = mpe.VideoFileClip(\"/content/runs/detect/predict/Sample1.avi\")\n",
        "\n",
        "video.write_videofile(\"processed_sample_video1.mp4\")"
      ]
    },
    {
      "cell_type": "code",
      "execution_count": null,
      "metadata": {
        "colab": {
          "base_uri": "https://localhost:8080/",
          "height": 649
        },
        "id": "PMULGb5pB8qE",
        "outputId": "30e04714-5610-403b-db83-1ceb2a0133b3"
      },
      "outputs": [],
      "source": [
        "video = mpe.VideoFileClip(\"processed_sample_video1.mp4\")\n",
        "\n",
        "video.ipython_display(width=960)"
      ]
    },
    {
      "cell_type": "code",
      "execution_count": null,
      "metadata": {
        "colab": {
          "base_uri": "https://localhost:8080/",
          "height": 472
        },
        "id": "k_jqnCpQCk4W",
        "outputId": "c50a5d52-2e03-47ae-ec3c-fbfa5c538ff3"
      },
      "outputs": [],
      "source": [
        "tuned_model.export(format='onnx')"
      ]
    }
  ],
  "metadata": {
    "accelerator": "GPU",
    "colab": {
      "gpuType": "T4",
      "provenance": []
    },
    "kernelspec": {
      "display_name": "Python 3",
      "name": "python3"
    },
    "language_info": {
      "name": "python"
    }
  },
  "nbformat": 4,
  "nbformat_minor": 0
}
